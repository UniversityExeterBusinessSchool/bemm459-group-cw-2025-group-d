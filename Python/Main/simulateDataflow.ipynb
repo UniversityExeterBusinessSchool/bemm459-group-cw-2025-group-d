{
 "cells": [
  {
   "cell_type": "code",
   "execution_count": null,
   "metadata": {},
   "outputs": [],
   "source": [
    "# import\n",
    "from datetime import datetime, timedelta\n",
    "from User import createUser, confirmUserEmail, updateUserAddress, updateUserDetail, loginUser, validateToken, softDeleteUser, getUserByEmail, getUserByFullName, createUserSearchHistory\n",
    "from Shop import createShop, updateShopName, softDeleteShop\n",
    "from Product import createProductGroup, createProductToProductGroup, searchProduct, deleteProductGroup, updateProductToProductGroup, deleteProductFromProductGroup, getUserRecommendations\n",
    "from Transaction import addProductToCart,cartToPayment, changeTransactionStatus,createLogistic, changeLogisticStatus, getProductGroupTransactionHistory, getProductTransactionHistory\n",
    "from Message import sendUserMessageToShop, sendShopMessageToUser, getMessageBetweenUserAndShop\n",
    "from initialProductData import productData"
   ]
  },
  {
   "cell_type": "code",
   "execution_count": null,
   "metadata": {},
   "outputs": [],
   "source": [
    "# create users\n",
    "email = \"@example01.com\"\n",
    "users = []\n",
    "for i in range(20):\n",
    "    # use index to create ascii a-z for name\n",
    "    firstName = 'firstname'+chr(ord('A') + i % 26)\n",
    "    lastName = 'lastname'+chr(ord('a') + i % 26)\n",
    "    user = createUser(f\"user{i}\" + email, \"+44\", f\"0777777777{i}\", firstName, lastName, \"Male\", \"password123\")\n",
    "    users.append(user)\n",
    "print(user)"
   ]
  },
  {
   "cell_type": "code",
   "execution_count": null,
   "metadata": {},
   "outputs": [],
   "source": [
    "# confirm all email\n",
    "for user in users:\n",
    "    confirmUserEmail(user)\n",
    "# update user address\n",
    "addressList = [\n",
    "    {\n",
    "        \"addressLine1\": \"123 Main St\",\n",
    "        \"addressLine2\": \"Apt 4B\",\n",
    "        \"city\": \"Anytown\",\n",
    "        \"state\": \"CA\",\n",
    "        \"country\": \"USA\",\n",
    "        \"zipCode\": 12345,\n",
    "    },\n",
    "    {\n",
    "        \"addressLine1\": \"456 Oak Ave\",\n",
    "        \"addressLine2\": \"Unit 10\",\n",
    "        \"city\": \"Springfield\",\n",
    "        \"state\": \"IL\",\n",
    "        \"country\": \"USA\",\n",
    "        \"zipCode\": 67890,\n",
    "    },\n",
    "]\n",
    "updateUserAddress(users[0], addressList)\n",
    "# update user detail\n",
    "updateUserDetail(users[0], \"+44\", \"07777777770\", \"firstnameA\", \"lastnamea\", \"Male\", \"newpassword123\")"
   ]
  },
  {
   "cell_type": "code",
   "execution_count": null,
   "metadata": {},
   "outputs": [],
   "source": [
    "# login user\n",
    "token = loginUser(\"user0\" + email, \"newpassword123\")\n",
    "print(token)\n",
    "# validate token\n",
    "validateToken(token)\n",
    "# soft delete user\n",
    "softDeleteUser(users[10])"
   ]
  },
  {
   "cell_type": "code",
   "execution_count": null,
   "metadata": {},
   "outputs": [],
   "source": [
    "# create shop\n",
    "shops = []\n",
    "for i in range(5):\n",
    "    shop = createShop(users[i], f\"Shop{i}\")\n",
    "    shops.append(shop)\n",
    "print(shops)"
   ]
  },
  {
   "cell_type": "code",
   "execution_count": null,
   "metadata": {},
   "outputs": [],
   "source": [
    "# create group of product and add product to product group\n",
    "productGroups = []\n",
    "products = []\n",
    "for i in range(len(productData)):\n",
    "    productGroup = createProductGroup(shops[i % 5], productData[i][\"name\"], productData[i][\"description\"], \"image.png\", [productData[i][\"category\"]])\n",
    "    print(productGroup)\n",
    "    productGroups.append(productGroup)\n",
    "    for customize in productData[i][\"customize\"]:\n",
    "        product = createProductToProductGroup(productGroup, f\"{productData[i]['name']} - {customize}\", f\"{productData[i]['description']} - {customize}\", \"image1.jpg\", productData[i][\"price\"])\n",
    "        products.append(product)\n",
    "print(productGroups)\n",
    "print(products)"
   ]
  },
  {
   "cell_type": "code",
   "execution_count": null,
   "metadata": {},
   "outputs": [],
   "source": [
    "# User add product to their cart\n",
    "addProductToCart(users[0], products[0], 1)\n",
    "addProductToCart(users[0], products[1], 2)\n",
    "addProductToCart(users[0], products[2], 3)\n",
    "addProductToCart(users[0], products[3], 4)\n",
    "addProductToCart(users[0], products[4], 5)"
   ]
  },
  {
   "cell_type": "code",
   "execution_count": null,
   "metadata": {},
   "outputs": [],
   "source": [
    "# use cart to make transaction\n",
    "pkTransaction = cartToPayment(users[0])\n",
    "print(pkTransaction)"
   ]
  },
  {
   "cell_type": "code",
   "execution_count": null,
   "metadata": {},
   "outputs": [],
   "source": [
    "# use pktransaction change transaction status to complete\n",
    "changeTransactionStatus(pkTransaction, \"Wait for payment\")\n",
    "changeTransactionStatus(pkTransaction, \"Completed\")"
   ]
  },
  {
   "cell_type": "code",
   "execution_count": null,
   "metadata": {},
   "outputs": [],
   "source": [
    "# create logistic\n",
    "deliveryDate = datetime.now() + timedelta(days=7)\n",
    "pkLogistic = createLogistic(pkTransaction, deliveryDate)"
   ]
  },
  {
   "cell_type": "code",
   "execution_count": null,
   "metadata": {},
   "outputs": [],
   "source": [
    "# change logistic status to 'complete'\n",
    "changeLogisticStatus(pkLogistic, \"Shipping\")\n",
    "changeLogisticStatus(pkLogistic, \"Delivered\")"
   ]
  },
  {
   "cell_type": "code",
   "execution_count": null,
   "metadata": {},
   "outputs": [],
   "source": [
    "# create 10 message between user and shop\n",
    "for i in range(10):\n",
    "    if i % 2 == 0:\n",
    "        sendUserMessageToShop(users[0], shops[0], f\"Hello Shop1, this is user1 message {i}\")\n",
    "    else:\n",
    "        sendShopMessageToUser(users[0], shops[0], f\"Hello User1, this is shop1 message {i}\")\n",
    "# get message\n",
    "message = getMessageBetweenUserAndShop(users[0], shops[0])\n",
    "print(message)"
   ]
  },
  {
   "cell_type": "code",
   "execution_count": 36,
   "metadata": {},
   "outputs": [
    {
     "name": "stdout",
     "output_type": "stream",
     "text": [
      "New Product Name\n",
      "New Product Description\n",
      "Slim Fit Chino Pants - M-Black\n",
      "Comfortable and stylish slim fit chino pants, perfect for any occasion. - M-Black\n",
      "Slim Fit Chino Pants - L-Black\n",
      "Comfortable and stylish slim fit chino pants, perfect for any occasion. - L-Black\n",
      "Slim Fit Chino Pants - XL-Black\n",
      "Comfortable and stylish slim fit chino pants, perfect for any occasion. - XL-Black\n",
      "Slim Fit Chino Pants - XXL-Black\n",
      "Comfortable and stylish slim fit chino pants, perfect for any occasion. - XXL-Black\n",
      "Jogger Sweatpants - S-Grey\n",
      "Cozy and comfortable jogger sweatpants, perfect for lounging or working out. - S-Grey\n",
      "Jogger Sweatpants - M-Grey\n",
      "Cozy and comfortable jogger sweatpants, perfect for lounging or working out. - M-Grey\n",
      "Jogger Sweatpants - L-Grey\n",
      "Cozy and comfortable jogger sweatpants, perfect for lounging or working out. - L-Grey\n",
      "Jogger Sweatpants - XL-Grey\n",
      "Cozy and comfortable jogger sweatpants, perfect for lounging or working out. - XL-Grey\n",
      "Jogger Sweatpants - XXL-Grey\n",
      "Cozy and comfortable jogger sweatpants, perfect for lounging or working out. - XXL-Grey\n",
      "Tailored Dress Pants - S-Navy\n",
      "Sharp and sophisticated tailored dress pants for formal occasions. - S-Navy\n",
      "Tailored Dress Pants - M-Navy\n",
      "Sharp and sophisticated tailored dress pants for formal occasions. - M-Navy\n",
      "Tailored Dress Pants - L-Navy\n",
      "Sharp and sophisticated tailored dress pants for formal occasions. - L-Navy\n",
      "Tailored Dress Pants - XL-Navy\n",
      "Sharp and sophisticated tailored dress pants for formal occasions. - XL-Navy\n",
      "Tailored Dress Pants - XXL-Navy\n",
      "Sharp and sophisticated tailored dress pants for formal occasions. - XXL-Navy\n",
      "Straight Leg Khaki Pants - S-Khaki\n",
      "Versatile straight leg khaki pants, suitable for both casual and semi-formal settings. - S-Khaki\n",
      "Straight Leg Khaki Pants - M-Khaki\n",
      "Versatile straight leg khaki pants, suitable for both casual and semi-formal settings. - M-Khaki\n",
      "Straight Leg Khaki Pants - L-Khaki\n",
      "Versatile straight leg khaki pants, suitable for both casual and semi-formal settings. - L-Khaki\n",
      "Straight Leg Khaki Pants - XL-Khaki\n",
      "Versatile straight leg khaki pants, suitable for both casual and semi-formal settings. - XL-Khaki\n",
      "Straight Leg Khaki Pants - XXL-Khaki\n",
      "Versatile straight leg khaki pants, suitable for both casual and semi-formal settings. - XXL-Khaki\n",
      "Drawstring Waist Pants - S-Olive\n",
      "Casual pants with a comfortable drawstring waist for an adjustable fit. - S-Olive\n",
      "Drawstring Waist Pants - M-Olive\n",
      "Casual pants with a comfortable drawstring waist for an adjustable fit. - M-Olive\n",
      "Drawstring Waist Pants - L-Olive\n",
      "Casual pants with a comfortable drawstring waist for an adjustable fit. - L-Olive\n",
      "Drawstring Waist Pants - XL-Olive\n",
      "Casual pants with a comfortable drawstring waist for an adjustable fit. - XL-Olive\n",
      "Drawstring Waist Pants - XXL-Olive\n",
      "Casual pants with a comfortable drawstring waist for an adjustable fit. - XXL-Olive\n"
     ]
    }
   ],
   "source": [
    "# search\n",
    "searchResult = searchProduct(\"pants\")\n",
    "for products in searchResult:\n",
    "    for product in products[\"product\"]: \n",
    "        print(product[\"productName\"])\n",
    "        print(product[\"productDescription\"])"
   ]
  },
  {
   "cell_type": "code",
   "execution_count": null,
   "metadata": {},
   "outputs": [],
   "source": [
    "# create user search history\n",
    "createUserSearchHistory(users[0], \"pants\")\n",
    "createUserSearchHistory(users[0], \"jeans\")\n",
    "createUserSearchHistory(users[0], \"trousers\")\n",
    "# get user recommendation product\n",
    "getUserRecommendations(users[0],10)"
   ]
  },
  {
   "cell_type": "code",
   "execution_count": null,
   "metadata": {},
   "outputs": [],
   "source": [
    "# get transaction history\n",
    "transactionHistory = getProductGroupTransactionHistory(productGroups[0])\n",
    "print(transactionHistory)\n",
    "# t.pkTransaction, t.createDate, t.totalPrice, t.fkUserBuyer, tp.quantity, tp.price, p.productName"
   ]
  },
  {
   "cell_type": "code",
   "execution_count": null,
   "metadata": {},
   "outputs": [],
   "source": [
    "# get transaction history\n",
    "transactionHistory = getProductTransactionHistory(products[0])\n",
    "print(transactionHistory)\n",
    "# t.pkTransaction, t.createDate, t.totalPrice, t.fkUserBuyer, tp.quantity, tp.price, p.productName"
   ]
  },
  {
   "cell_type": "code",
   "execution_count": null,
   "metadata": {},
   "outputs": [],
   "source": [
    "# update shop name\n",
    "updateShopName(shops[0], \"New Shop Name\")\n",
    "# soft delete shop\n",
    "softDeleteShop(shops[1])"
   ]
  },
  {
   "cell_type": "code",
   "execution_count": null,
   "metadata": {},
   "outputs": [],
   "source": [
    "# delete product\n",
    "deleteProductGroup(productGroups[2])\n",
    "# update product\n",
    "updateProductToProductGroup(productGroups[0], products[0], \"New Product Name\", \"New Product Description\", \"newimage.jpg\", 99.99)\n",
    "# delete product from product group\n",
    "deleteProductFromProductGroup(productGroups[0], products[1])"
   ]
  },
  {
   "cell_type": "code",
   "execution_count": null,
   "metadata": {},
   "outputs": [],
   "source": [
    "# get user by email\n",
    "user = getUserByEmail(\"user0\"+email)\n",
    "print(user)"
   ]
  },
  {
   "cell_type": "code",
   "execution_count": null,
   "metadata": {},
   "outputs": [],
   "source": [
    "# get user by full name\n",
    "user = getUserByFullName(\"firstnameA lastnamea\")\n",
    "print(user)"
   ]
  },
  {
   "cell_type": "code",
   "execution_count": null,
   "metadata": {},
   "outputs": [],
   "source": [
    "user = getUserByFullName(1234)"
   ]
  }
 ],
 "metadata": {
  "kernelspec": {
   "display_name": "Python 3",
   "language": "python",
   "name": "python3"
  },
  "language_info": {
   "codemirror_mode": {
    "name": "ipython",
    "version": 3
   },
   "file_extension": ".py",
   "mimetype": "text/x-python",
   "name": "python",
   "nbconvert_exporter": "python",
   "pygments_lexer": "ipython3",
   "version": "3.13.1"
  }
 },
 "nbformat": 4,
 "nbformat_minor": 2
}
